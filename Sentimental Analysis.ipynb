{
 "cells": [
  {
   "cell_type": "code",
   "execution_count": 3,
   "metadata": {},
   "outputs": [
    {
     "name": "stdout",
     "output_type": "stream",
     "text": [
      "Requirement already satisfied: tweepy in c:\\users\\luisd\\appdata\\local\\programs\\python\\python37\\lib\\site-packages (3.8.0)\n",
      "Requirement already satisfied: requests-oauthlib>=0.7.0 in c:\\users\\luisd\\appdata\\local\\programs\\python\\python37\\lib\\site-packages (from tweepy) (1.3.0)\n",
      "Requirement already satisfied: PySocks>=1.5.7 in c:\\users\\luisd\\appdata\\local\\programs\\python\\python37\\lib\\site-packages (from tweepy) (1.7.1)\n",
      "Requirement already satisfied: six>=1.10.0 in c:\\users\\luisd\\appdata\\local\\programs\\python\\python37\\lib\\site-packages (from tweepy) (1.12.0)\n",
      "Requirement already satisfied: requests>=2.11.1 in c:\\users\\luisd\\appdata\\local\\programs\\python\\python37\\lib\\site-packages (from tweepy) (2.22.0)\n",
      "Requirement already satisfied: oauthlib>=3.0.0 in c:\\users\\luisd\\appdata\\local\\programs\\python\\python37\\lib\\site-packages (from requests-oauthlib>=0.7.0->tweepy) (3.1.0)\n",
      "Requirement already satisfied: urllib3!=1.25.0,!=1.25.1,<1.26,>=1.21.1 in c:\\users\\luisd\\appdata\\local\\programs\\python\\python37\\lib\\site-packages (from requests>=2.11.1->tweepy) (1.25.7)\n",
      "Requirement already satisfied: idna<2.9,>=2.5 in c:\\users\\luisd\\appdata\\local\\programs\\python\\python37\\lib\\site-packages (from requests>=2.11.1->tweepy) (2.8)\n",
      "Requirement already satisfied: certifi>=2017.4.17 in c:\\users\\luisd\\appdata\\local\\programs\\python\\python37\\lib\\site-packages (from requests>=2.11.1->tweepy) (2019.11.28)\n",
      "Requirement already satisfied: chardet<3.1.0,>=3.0.2 in c:\\users\\luisd\\appdata\\local\\programs\\python\\python37\\lib\\site-packages (from requests>=2.11.1->tweepy) (3.0.4)\n"
     ]
    },
    {
     "name": "stderr",
     "output_type": "stream",
     "text": [
      "tensorboard 2.0.2 has requirement setuptools>=41.0.0, but you'll have setuptools 39.0.1 which is incompatible.\n",
      "google-auth 1.10.0 has requirement setuptools>=40.3.0, but you'll have setuptools 39.0.1 which is incompatible.\n",
      "You are using pip version 10.0.1, however version 20.0.2 is available.\n",
      "You should consider upgrading via the 'python -m pip install --upgrade pip' command.\n"
     ]
    },
    {
     "name": "stdout",
     "output_type": "stream",
     "text": [
      "Requirement already satisfied: textblob in c:\\users\\luisd\\appdata\\local\\programs\\python\\python37\\lib\\site-packages (0.15.3)\n",
      "Requirement already satisfied: nltk>=3.1 in c:\\users\\luisd\\appdata\\local\\programs\\python\\python37\\lib\\site-packages (from textblob) (3.4.5)\n",
      "Requirement already satisfied: six in c:\\users\\luisd\\appdata\\local\\programs\\python\\python37\\lib\\site-packages (from nltk>=3.1->textblob) (1.12.0)\n"
     ]
    },
    {
     "name": "stderr",
     "output_type": "stream",
     "text": [
      "tensorboard 2.0.2 has requirement setuptools>=41.0.0, but you'll have setuptools 39.0.1 which is incompatible.\n",
      "google-auth 1.10.0 has requirement setuptools>=40.3.0, but you'll have setuptools 39.0.1 which is incompatible.\n",
      "You are using pip version 10.0.1, however version 20.0.2 is available.\n",
      "You should consider upgrading via the 'python -m pip install --upgrade pip' command.\n"
     ]
    },
    {
     "name": "stdout",
     "output_type": "stream",
     "text": [
      "Positive tweets percentage: 2.5 %\n",
      "Negative tweets percentage: 8.75 %\n",
      "Neutral tweets percentage: 88.75 %\n",
      "\n",
      "\n",
      "Positive tweets:\n",
      "Por qué la gente cree que una persona se cree superior o que es “mente cerrada”, o prejuiciosa sólo por no gustarle… https://t.co/E26NJctEM3\n",
      "Hay una fiesta cerca de mí casa y estaba sonando reguetón, y... Acaba de sonar YOU MAKE ME FEEL SPECIAL Y ESTOY BAI… https://t.co/tZul5TlU2S\n",
      "\n",
      "\n",
      "Negative tweets:\n",
      "NO ME GUSTA EL REGUETON #Sorry\n",
      "@DonVWord Jajaja jajaja tirar hate al reguetón es tan 2012, Dimitri.\n",
      "@erregina Destesto el Reguetón pero Coelho es de izquierda... En ese caso viva Bad Bunny\n",
      "RT @TintoLlanero: ¿Quién es Bad Bunny? Perdón por andar ocupado leyendo \"Juventud en Éxtasis \" un libro que le quita las ganas de culiar a…\n",
      "Bad Bunny es el Billy Eilish del reguetón.\n",
      "RT @Raidkkonen: A mi me daría vergüenza preguntar quién es bad bunny y eso que odio el reguetón y todos sus derivados...\n",
      "\n",
      "Preguntar eso no…\n",
      "oigan no escucho reguetón alguien díganme qué significa “hysjdlsl” del nuevo álbum de bad bunny porque me aparece m… https://t.co/DvwYpqand3\n"
     ]
    }
   ],
   "source": [
    "import sys\n",
    "!{sys.executable} -m pip install tweepy\n",
    "!{sys.executable} -m pip install textblob\n",
    "import config as config\n",
    "\n",
    "import re \n",
    "import tweepy \n",
    "from tweepy import OAuthHandler \n",
    "from textblob import TextBlob \n",
    "  \n",
    "class TwitterClient(object):\n",
    "    def __init__(self):\n",
    "        consumer_key = 'tVCaXcKOFQXLsbQsIdjArMNgK'\n",
    "        consumer_secret = '95H5Fg1FIK8xqooszwTJI6ZtAWfZj7jtJtiDSPz8B6gheONVh7'\n",
    "        access_token = '187000666-KeNn9ZI9RKauYYEVpzQX40om3mBFmuKMuJi2GFlN'\n",
    "        access_token_secret = 's3wn6GuJfklsYFVoPyFoYCuseQV9ZNif14HaeIakXYfVH'\n",
    "        \n",
    "        try: \n",
    "            # crear el objeto OAuthHandler \n",
    "            self.auth = OAuthHandler(consumer_key, consumer_secret) \n",
    "            # set access token and secret \n",
    "            self.auth.set_access_token(access_token, access_token_secret) \n",
    "            # crear un objeto API de tweepy para obtener tweets \n",
    "            self.api = tweepy.API(self.auth) \n",
    "        except: \n",
    "            print(\"Error: Authentication Failed\")\n",
    "            \n",
    "    def clean_tweet(self, tweet): \n",
    "        return ' '.join(re.sub(\"(@[A-Za-z0-9]+)|([^0-9A-Za-z \\t])|(\\w+:\\/\\/\\S+)\", \" \", tweet).split()) \n",
    "          \n",
    "        \n",
    "    def get_tweet_sentiment(self, tweet): \n",
    "        # crear el objeto TextBlob del texto tweet pasado \n",
    "        analysis = TextBlob(self.clean_tweet(tweet)) \n",
    "        # establecer el sentimiento... \n",
    "        if analysis.sentiment.polarity > 0: \n",
    "            return 'positive'\n",
    "        elif analysis.sentiment.polarity == 0: \n",
    "            return 'neutral'\n",
    "        else: \n",
    "            return 'negative'\n",
    "    \n",
    "    def get_tweets(self, query, count = 10): \n",
    "        ''' \n",
    "        Main function to fetch tweets and parse them. \n",
    "        '''\n",
    "        # lista vacía para almacenar tweets analizados \n",
    "        tweets = [] \n",
    "  \n",
    "        try: \n",
    "            # llamar a twitter api para obtener tweets \n",
    "            fetched_tweets = self.api.search(q = query, count = count) \n",
    "  \n",
    "            # analizando los tweets uno por uno \n",
    "            for tweet in fetched_tweets: \n",
    "                # diccionario vacío para almacenar los parámetros necesarios de un tweet \n",
    "                parsed_tweet = {} \n",
    "  \n",
    "                # guardando el texto del tweet \n",
    "                parsed_tweet['text'] = tweet.text \n",
    "                # guardando el sentimiento del tweet\n",
    "                parsed_tweet['sentiment'] = self.get_tweet_sentiment(tweet.text) \n",
    "  \n",
    "                # añadir el tweet parsed a la lista de tweets \n",
    "                if tweet.retweet_count > 0: \n",
    "                    # si el tweet tiene retweets, asegúrate de que se añada sólo una vez \n",
    "                    if parsed_tweet not in tweets: \n",
    "                        tweets.append(parsed_tweet) \n",
    "                else: \n",
    "                    tweets.append(parsed_tweet) \n",
    "  \n",
    "            # devuelva los tweets analizados \n",
    "            return tweets \n",
    "  \n",
    "        except tweepy.TweepError as e: \n",
    "            # error de impresión (si lo hay) \n",
    "            print(\"Error : \" + str(e))\n",
    "     \n",
    "        # creando el objeto de la clase TwitterClient \n",
    "api = TwitterClient() \n",
    "        # función de llamada para obtener tweets \n",
    "tweets = api.get_tweets(query = 'Reguetón', count = 200) \n",
    "  \n",
    "        # elegir los tweets positivos de los tweets \n",
    "ptweets = [tweet for tweet in tweets if tweet['sentiment'] == 'positive'] \n",
    "        # porcentaje de tweets positivos \n",
    "print(\"Positive tweets percentage: {} %\".format(100*len(ptweets)/len(tweets))) \n",
    "        # recogiendo tweets negativos de los tweets \n",
    "ntweets = [tweet for tweet in tweets if tweet['sentiment'] == 'negative']\n",
    "\n",
    "neutraltweets = [tweet for tweet in tweets if not tweet['sentiment'] == 'positive' and not tweet['sentiment']== 'negative' ]\n",
    "    # porcentaje de tweets negativos \n",
    "print(\"Negative tweets percentage: {} %\".format(100*len(ntweets)/len(tweets))) \n",
    "    # porcentaje de tweets neutros\n",
    "print(\"Neutral tweets percentage: {} %\".format(100*len(neutraltweets)/len(tweets)))\n",
    "  \n",
    "        # imprimiendo los primeros 5 tweets positivos \n",
    "print(\"\\n\\nPositive tweets:\") \n",
    "for tweet in ptweets[0:10]: \n",
    "    print(tweet['text']) \n",
    "  \n",
    "print(\"\\n\\nNegative tweets:\") \n",
    "for tweet in ntweets[0:10]: \n",
    "            print(tweet['text'])"
   ]
  },
  {
   "cell_type": "code",
   "execution_count": 4,
   "metadata": {},
   "outputs": [],
   "source": [
    "from time import sleep\n",
    "import tweepy \n",
    "from datetime import datetime\n",
    "import matplotlib.pyplot as plt \n",
    "%matplotlib inline"
   ]
  },
  {
   "cell_type": "code",
   "execution_count": 5,
   "metadata": {},
   "outputs": [],
   "source": [
    "#Se define las variables para el acceso al API de twitter\n",
    "consumer_key = 'tVCaXcKOFQXLsbQsIdjArMNgK'\n",
    "consumer_secret = '95H5Fg1FIK8xqooszwTJI6ZtAWfZj7jtJtiDSPz8B6gheONVh7'\n",
    "access_token = '187000666-KeNn9ZI9RKauYYEVpzQX40om3mBFmuKMuJi2GFlN'\n",
    "access_token_secret = 's3wn6GuJfklsYFVoPyFoYCuseQV9ZNif14HaeIakXYfVH'"
   ]
  },
  {
   "cell_type": "code",
   "execution_count": 6,
   "metadata": {},
   "outputs": [],
   "source": [
    "#Se autentica en twitter\n",
    "auth = tweepy.OAuthHandler(consumer_key, consumer_secret)\n",
    "auth.set_access_token(access_token, access_token_secret)\n",
    "api = tweepy.API(auth)"
   ]
  },
  {
   "cell_type": "code",
   "execution_count": 7,
   "metadata": {},
   "outputs": [
    {
     "name": "stdout",
     "output_type": "stream",
     "text": [
      "Luis Torres Farías\n"
     ]
    }
   ],
   "source": [
    "#se verifica que el usuario conectado en twitter es de uno\n",
    "print(api.me().name)"
   ]
  },
  {
   "cell_type": "code",
   "execution_count": 8,
   "metadata": {},
   "outputs": [
    {
     "name": "stdout",
     "output_type": "stream",
     "text": [
      "Buscar: Reguetón\n"
     ]
    }
   ],
   "source": [
    "#Se pregunta por la palabra a preguntar\n",
    "palabra = input(\"Buscar: \")"
   ]
  },
  {
   "cell_type": "code",
   "execution_count": 15,
   "metadata": {},
   "outputs": [
    {
     "name": "stdout",
     "output_type": "stream",
     "text": [
      "Número de tweets a capturar: 50\n"
     ]
    }
   ],
   "source": [
    "#Se define la cantida de tweets a capturar\n",
    "numero_de_Tweets = int(input(u\"Número de tweets a capturar: \"))"
   ]
  },
  {
   "cell_type": "code",
   "execution_count": 16,
   "metadata": {},
   "outputs": [
    {
     "name": "stdout",
     "output_type": "stream",
     "text": [
      "Idioma [es/en]:es\n"
     ]
    }
   ],
   "source": [
    "#Se define el idioma de los tweets a analizar\n",
    "lenguaje = input(\"Idioma [es/en]:\")"
   ]
  },
  {
   "cell_type": "code",
   "execution_count": 17,
   "metadata": {},
   "outputs": [],
   "source": [
    "def ObtenerTweets(palabra=\"Reguetón\",times=100,leguanje=\"es\"):\n",
    "    #Se define las listas que capturan la popularidad\n",
    "    popularidad_list = []\n",
    "    numeros_list = []\n",
    "    numero = 1\n",
    "    for tweet in tweepy.Cursor(api.search, palabra, lang=lenguaje).items(numero_de_Tweets):\n",
    "        try:\n",
    "            #Se toma el texto, se hace el analisis de sentimiento\n",
    "            #y se agrega el resultado a las listas\n",
    "            analisis = TextBlob(tweet.text)\n",
    "            analisis = analisis.sentiment\n",
    "            popularidad = analisis.polarity\n",
    "            popularidad_list.append(popularidad)\n",
    "            numeros_list.append(numero)\n",
    "            numero = numero + 1\n",
    "\n",
    "        except tweepy.TweepError as e:\n",
    "            print(e.reason)\n",
    "\n",
    "        except StopIteration:\n",
    "            break\n",
    "    return (numeros_list,popularidad_list,numero)"
   ]
  },
  {
   "cell_type": "code",
   "execution_count": 18,
   "metadata": {},
   "outputs": [],
   "source": [
    "def GraficarDatos(numeros_list,popularidad_list,numero):\n",
    "    axes = plt.gca()\n",
    "    axes.set_ylim([-1, 2])\n",
    "    \n",
    "    plt.scatter(numeros_list, popularidad_list)\n",
    "    popularidadPromedio = (sum(popularidad_list))/(len(popularidad_list))\n",
    "    popularidadPromedio = \"{0:.0f}%\".format(popularidadPromedio * 100)\n",
    "    time  = datetime.now().strftime(\"A : %H:%M\\n El: %m-%d-%y\")\n",
    "    plt.text(0, 1.25, \n",
    "             \"Sentimiento promedio:  \" + str(popularidadPromedio) + \"\\n\" + time, \n",
    "             fontsize=12, \n",
    "             bbox = dict(facecolor='none', \n",
    "                         edgecolor='black', \n",
    "                         boxstyle='square, pad = 1'))\n",
    "    \n",
    "    plt.title(\"Sentimientos sobre \" + palabra + \" en twitter\")\n",
    "    plt.xlabel(\"Numero de tweets\")\n",
    "    plt.ylabel(\"Sentimiento\")\n",
    "    plt.show()\n",
    "    "
   ]
  },
  {
   "cell_type": "code",
   "execution_count": 19,
   "metadata": {},
   "outputs": [],
   "source": [
    "numeros_list,popularidad_list,numero = ObtenerTweets(palabra,numero_de_Tweets,lenguaje)"
   ]
  },
  {
   "cell_type": "code",
   "execution_count": 20,
   "metadata": {},
   "outputs": [
    {
     "data": {
      "image/png": "[encoded data removed]",
      "text/plain": [
       "<Figure size 432x288 with 1 Axes>"
      ]
     },
     "metadata": {
      "needs_background": "light"
     },
     "output_type": "display_data"
    }
   ],
   "source": [
    "GraficarDatos(numeros_list,popularidad_list,numero)"
   ]
  },
  {
   "cell_type": "code",
   "execution_count": null,
   "metadata": {},
   "outputs": [],
   "source": []
  }
 ],
 "metadata": {
  "kernelspec": {
   "display_name": "Python 3",
   "language": "python",
   "name": "python3"
  },
  "language_info": {
   "codemirror_mode": {
    "name": "ipython",
    "version": 3
   },
   "file_extension": ".py",
   "mimetype": "text/x-python",
   "name": "python",
   "nbconvert_exporter": "python",
   "pygments_lexer": "ipython3",
   "version": "3.7.0"
  }
 },
 "nbformat": 4,
 "nbformat_minor": 2
}
